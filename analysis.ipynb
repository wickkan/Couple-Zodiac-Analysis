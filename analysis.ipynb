{
 "cells": [
  {
   "cell_type": "code",
   "execution_count": 10,
   "metadata": {},
   "outputs": [],
   "source": [
    "# Compatibility dictionary\n",
    "compatibility_scores = {\n",
    "    # Aries compatibility\n",
    "    ('Aries', 'Gemini'): 1, ('Aries', 'Leo'): 1, ('Aries', 'Sagittarius'): 1, ('Aries', 'Aquarius'): 1,\n",
    "    ('Aries', 'Taurus'): -1, ('Aries', 'Cancer'): -1, ('Aries', 'Virgo'): -1, ('Aries', 'Scorpio'): -1, ('Aries', 'Capricorn'): -1, ('Aries', 'Pisces'): -1,\n",
    "\n",
    "    # Taurus compatibility\n",
    "    ('Taurus', 'Cancer'): 1, ('Taurus', 'Virgo'): 1, ('Taurus', 'Capricorn'): 1, ('Taurus', 'Pisces'): 1,\n",
    "    ('Taurus', 'Aries'): -1, ('Taurus', 'Gemini'): -1, ('Taurus', 'Leo'): -1, ('Taurus', 'Libra'): -1, ('Taurus', 'Scorpio'): -1, ('Taurus', 'Aquarius'): -1,\n",
    "\n",
    "    # Gemini compatibility\n",
    "    ('Gemini', 'Aries'): 1, ('Gemini', 'Leo'): 1, ('Gemini', 'Libra'): 1, ('Gemini', 'Aquarius'): 1,\n",
    "    ('Gemini', 'Taurus'): -1, ('Gemini', 'Cancer'): -1, ('Gemini', 'Virgo'): -1, ('Gemini', 'Scorpio'): -1, ('Gemini', 'Capricorn'): -1, ('Gemini', 'Pisces'): -1,\n",
    "\n",
    "    # Cancer compatibility\n",
    "    ('Cancer', 'Taurus'): 1, ('Cancer', 'Virgo'): 1, ('Cancer', 'Scorpio'): 1, ('Cancer', 'Pisces'): 1,\n",
    "    ('Cancer', 'Aries'): -1, ('Cancer', 'Gemini'): -1, ('Cancer', 'Leo'): -1, ('Cancer', 'Libra'): -1, ('Cancer', 'Sagittarius'): -1, ('Cancer', 'Aquarius'): -1,\n",
    "\n",
    "    # Leo compatibility\n",
    "    ('Leo', 'Gemini'): 1, ('Leo', 'Libra'): 1, ('Leo', 'Sagittarius'): 1, ('Leo', 'Aries'): 1,\n",
    "    ('Leo', 'Taurus'): -1, ('Leo', 'Cancer'): -1, ('Leo', 'Virgo'): -1, ('Leo', 'Scorpio'): -1, ('Leo', 'Capricorn'): -1, ('Leo', 'Pisces'): -1,\n",
    "\n",
    "    # Virgo compatibility\n",
    "    ('Virgo', 'Taurus'): 1, ('Virgo', 'Cancer'): 1, ('Virgo', 'Scorpio'): 1, ('Virgo', 'Capricorn'): 1,\n",
    "    ('Virgo', 'Aries'): -1, ('Virgo', 'Gemini'): -1, ('Virgo', 'Leo'): -1, ('Virgo', 'Libra'): -1, ('Virgo', 'Sagittarius'): -1, ('Virgo', 'Aquarius'): -1,\n",
    "\n",
    "    # Libra compatibility\n",
    "    ('Libra', 'Gemini'): 1, ('Libra', 'Leo'): 1, ('Libra', 'Sagittarius'): 1, ('Libra', 'Aquarius'): 1,\n",
    "    ('Libra', 'Taurus'): -1, ('Libra', 'Cancer'): -1, ('Libra', 'Virgo'): -1, ('Libra', 'Scorpio'): -1, ('Libra', 'Capricorn'): -1, ('Libra', 'Pisces'): -1,\n",
    "\n",
    "    # Scorpio compatibility\n",
    "    ('Scorpio', 'Cancer'): 1, ('Scorpio', 'Virgo'): 1, ('Scorpio', 'Capricorn'): 1, ('Scorpio', 'Pisces'): 1,\n",
    "    ('Scorpio', 'Aries'): -1, ('Scorpio', 'Gemini'): -1, ('Scorpio', 'Leo'): -1, ('Scorpio', 'Libra'): -1, ('Scorpio', 'Sagittarius'): -1, ('Scorpio', 'Aquarius'): -1,\n",
    "\n",
    "    # Sagittarius compatibility\n",
    "    ('Sagittarius', 'Leo'): 1, ('Sagittarius', 'Libra'): 1, ('Sagittarius', 'Aquarius'): 1, ('Sagittarius', 'Aries'): 1,\n",
    "    ('Sagittarius', 'Taurus'): -1, ('Sagittarius', 'Cancer'): -1, ('Sagittarius', 'Virgo'): -1, ('Sagittarius', 'Scorpio'): -1, ('Sagittarius', 'Capricorn'): -1, ('Sagittarius', 'Pisces'): -1,\n",
    "\n",
    "    # Capricorn compatibility\n",
    "    ('Capricorn', 'Taurus'): 1, ('Capricorn', 'Virgo'): 1, ('Capricorn', 'Scorpio'): 1, ('Capricorn', 'Pisces'): 1,\n",
    "    ('Capricorn', 'Aries'): -1, ('Capricorn', 'Gemini'): -1, ('Capricorn', 'Leo'): -1, ('Capricorn', 'Libra'): -1, ('Capricorn', 'Sagittarius'): -1, ('Capricorn', 'Aquarius'): -1,\n",
    "\n",
    "    # Aquarius compatibility\n",
    "    ('Aquarius', 'Gemini'): 1, ('Aquarius', 'Libra'): 1, ('Aquarius', 'Sagittarius'): 1, ('Aquarius', 'Aries'): 1,\n",
    "    ('Aquarius', 'Taurus'): -1, ('Aquarius', 'Cancer'): -1, ('Aquarius', 'Virgo'): -1, ('Aquarius', 'Scorpio'): -1, ('Aquarius', 'Capricorn'): -1, ('Aquarius', 'Pisces'): -1,\n",
    "\n",
    "    # Pisces compatibility\n",
    "    ('Pisces', 'Taurus'): 1, ('Pisces', 'Cancer'): 1, ('Pisces', 'Scorpio'): 1, ('Pisces', 'Capricorn'): 1,\n",
    "    ('Pisces', 'Aries'): -1, ('Pisces', 'Gemini'): -1, ('Pisces', 'Leo'): -1, ('Pisces', 'Libra'): -1, ('Pisces', 'Sagittarius'): -1, ('Pisces', 'Aquarius'): -1,\n",
    "}\n",
    "\n",
    "# Adding default neutral score for all other combinations that are not specified\n",
    "all_signs = ['Aries', 'Taurus', 'Gemini', 'Cancer', 'Leo', 'Virgo',\n",
    "             'Libra', 'Scorpio', 'Sagittarius', 'Capricorn', 'Aquarius', 'Pisces']\n",
    "for sign1 in all_signs:\n",
    "    for sign2 in all_signs:\n",
    "        if (sign1, sign2) not in compatibility_scores:\n",
    "            # Assign neutral score if not explicitly incompatible or compatible\n",
    "            compatibility_scores[(sign1, sign2)] = 0\n",
    "\n",
    "# This setup ensures each sign pairing has a score, emphasising the compatibility or lack thereof.\n",
    "\n",
    "def get_compatibility(sign1, sign2):\n",
    "    # default to 0 if no specific score exists\n",
    "    return compatibility_scores.get((sign1, sign2), 0)"
   ]
  },
  {
   "cell_type": "markdown",
   "metadata": {},
   "source": [
    "* Compatible (Score = 1): Previously discussed pairings based on traditional astrological compatibility.\n",
    "* Neutral (Score = 0): Pairings not explicitly mentioned as compatible or incompatible.\n",
    "* Incompatible (Score = -1): Opposing pairings typically not advised in astrology, such as adjacent zodiac signs."
   ]
  },
  {
   "cell_type": "code",
   "execution_count": 12,
   "metadata": {},
   "outputs": [
    {
     "name": "stdout",
     "output_type": "stream",
     "text": [
      "  Partner1_Sign_Man Partner2_Sign_Woman  Relationship_Duration_Years  \\\n",
      "0             Virgo            Aquarius                         0.40   \n",
      "1               Leo               Libra                         1.00   \n",
      "2       Sagittarius               Aries                        25.00   \n",
      "3            Pisces            Aquarius                         3.00   \n",
      "4             Virgo               Aries                         0.40   \n",
      "5             Virgo                 Leo                         0.25   \n",
      "6             Virgo                 Leo                         0.20   \n",
      "7            Taurus               Virgo                         4.00   \n",
      "8          Aquarius            Aquarius                         5.00   \n",
      "\n",
      "   Still_Together  Compatibility_Score  \n",
      "0               0                   -1  \n",
      "1               1                    1  \n",
      "2               1                    1  \n",
      "3               1                   -1  \n",
      "4               0                   -1  \n",
      "5               0                   -1  \n",
      "6               0                   -1  \n",
      "7               1                    1  \n",
      "8               1                    0  \n"
     ]
    }
   ],
   "source": [
    "import pandas as pd\n",
    "\n",
    "# Example structure of your data\n",
    "data = {\n",
    "    'Partner1_Sign_Man': ['Virgo', 'Leo', 'Sagittarius', 'Pisces', 'Virgo', 'Virgo', 'Virgo', 'Taurus', 'Aquarius'],\n",
    "    'Partner2_Sign_Woman': ['Aquarius', 'Libra', 'Aries', 'Aquarius', 'Aries', 'Leo', 'Leo', 'Virgo', 'Aquarius'],\n",
    "    'Relationship_Duration_Years': [0.4, 1, 25, 3, 0.4, 0.25, 0.2, 4, 5],\n",
    "    'Still_Together': [0, 1, 1, 1, 0, 0, 0, 1, 1]  # 1 for still together, 0 for not\n",
    "}\n",
    "\n",
    "df = pd.DataFrame(data)\n",
    "\n",
    "# Add compatibility score to each row based on zodiac signs\n",
    "df['Compatibility_Score'] = df.apply(lambda row: get_compatibility(\n",
    "    row['Partner1_Sign_Man'], row['Partner2_Sign_Woman']), axis=1)\n",
    "\n",
    "print(df)"
   ]
  },
  {
   "cell_type": "markdown",
   "metadata": {},
   "source": [
    "### Correlation Analysis"
   ]
  },
  {
   "cell_type": "code",
   "execution_count": 16,
   "metadata": {},
   "outputs": [
    {
     "name": "stdout",
     "output_type": "stream",
     "text": [
      "Correlation between Compatibility Score and Relationship Duration: 0.558, p-value: 0.119\n",
      "Correlation between Compatibility Score and Still Together Status: 0.759, p-value: 0.018\n"
     ]
    }
   ],
   "source": [
    "from scipy.stats import pearsonr\n",
    "\n",
    "# Calculate correlations\n",
    "corr_duration_score = pearsonr(\n",
    "    df['Compatibility_Score'], df['Relationship_Duration_Years'])\n",
    "corr_still_together_score = pearsonr(\n",
    "    df['Compatibility_Score'], df['Still_Together'])\n",
    "\n",
    "print(\"Correlation between Compatibility Score and Relationship Duration: {:.3f}, p-value: {:.3f}\".format(\n",
    "    corr_duration_score[0], corr_duration_score[1]))\n",
    "print(\"Correlation between Compatibility Score and Still Together Status: {:.3f}, p-value: {:.3f}\".format(\n",
    "    corr_still_together_score[0], corr_still_together_score[1]))"
   ]
  },
  {
   "cell_type": "markdown",
   "metadata": {},
   "source": [
    "### Regression Analysis"
   ]
  },
  {
   "cell_type": "code",
   "execution_count": 18,
   "metadata": {},
   "outputs": [
    {
     "name": "stdout",
     "output_type": "stream",
     "text": [
      "Coefficient (slope): 0.41176470588235276\n",
      "Intercept: 0.6470588235294117\n",
      "Predicted: 0.24, Actual: 0\n",
      "Predicted: 1.06, Actual: 1\n",
      "Predicted: 1.06, Actual: 1\n",
      "Predicted: 0.24, Actual: 1\n",
      "Predicted: 0.24, Actual: 0\n",
      "Predicted: 0.24, Actual: 0\n",
      "Predicted: 0.24, Actual: 0\n",
      "Predicted: 1.06, Actual: 1\n",
      "Predicted: 0.65, Actual: 1\n"
     ]
    }
   ],
   "source": [
    "from sklearn.linear_model import LinearRegression\n",
    "import numpy as np\n",
    "\n",
    "# Reshape data for scikit-learn which expects 2D array for features\n",
    "X = df['Compatibility_Score'].values.reshape(-1, 1)\n",
    "y = df['Still_Together'].values\n",
    "\n",
    "# Create linear regression object\n",
    "model = LinearRegression()\n",
    "model.fit(X, y)\n",
    "\n",
    "# Print the coefficients\n",
    "print(\"Coefficient (slope):\", model.coef_[0])\n",
    "print(\"Intercept:\", model.intercept_)\n",
    "\n",
    "# Predicting values \n",
    "predicted = model.predict(X)\n",
    "for pred, actual in zip(predicted, y):\n",
    "    print(f\"Predicted: {pred:.2f}, Actual: {actual}\")"
   ]
  }
 ],
 "metadata": {
  "kernelspec": {
   "display_name": "Python 3",
   "language": "python",
   "name": "python3"
  },
  "language_info": {
   "codemirror_mode": {
    "name": "ipython",
    "version": 3
   },
   "file_extension": ".py",
   "mimetype": "text/x-python",
   "name": "python",
   "nbconvert_exporter": "python",
   "pygments_lexer": "ipython3",
   "version": "3.12.2"
  }
 },
 "nbformat": 4,
 "nbformat_minor": 2
}
